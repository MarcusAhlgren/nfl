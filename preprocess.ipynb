{
 "cells": [
  {
   "cell_type": "code",
   "execution_count": 1,
   "metadata": {},
   "outputs": [],
   "source": [
    "import numpy as np\n",
    "import pandas as pd\n",
    "import matplotlib.pyplot as plt\n",
    "import matplotlib.patches as patches\n",
    "import seaborn as sns\n",
    "import datetime\n",
    "import math\n",
    "import re\n",
    "from plot_utility import create_football_field, get_dx_dy, show_play\n",
    "from string import punctuation\n",
    "from sklearn.preprocessing import StandardScaler"
   ]
  },
  {
   "cell_type": "code",
   "execution_count": 3,
   "metadata": {},
   "outputs": [],
   "source": [
    "def clean_wind_speed(windspeed):\n",
    "    ws = str(windspeed)\n",
    "\n",
    "    if 'mph' in ws.lower():\n",
    "        return int(ws.lower().split('mph')[0])\n",
    "    else :\n",
    "        return ws"
   ]
  },
  {
   "cell_type": "code",
   "execution_count": 89,
   "metadata": {},
   "outputs": [],
   "source": [
    "def preprocess(df):\n",
    "    df=df.copy()\n",
    "    \n",
    "    #changing team abbr such that every team only has one unique abbr in the data\n",
    "    df.loc[df.VisitorTeamAbbr == \"ARI\", 'VisitorTeamAbbr'] = \"ARZ\"\n",
    "    df.loc[df.HomeTeamAbbr == \"ARI\", 'HomeTeamAbbr'] = \"ARZ\"\n",
    "\n",
    "    df.loc[df.VisitorTeamAbbr == \"BAL\", 'VisitorTeamAbbr'] = \"BLT\"\n",
    "    df.loc[df.HomeTeamAbbr == \"BAL\", 'HomeTeamAbbr'] = \"BLT\"\n",
    "\n",
    "    df.loc[df.VisitorTeamAbbr == \"CLE\", 'VisitorTeamAbbr'] = \"CLV\"\n",
    "    df.loc[df.HomeTeamAbbr == \"CLE\", 'HomeTeamAbbr'] = \"CLV\"\n",
    "\n",
    "    df.loc[df.VisitorTeamAbbr == \"HOU\", 'VisitorTeamAbbr'] = \"HST\"\n",
    "    df.loc[df.HomeTeamAbbr == \"HOU\", 'HomeTeamAbbr'] = \"HST\"\n",
    "    \n",
    "    #Stadium: mapping such that each arena only has one unique name\n",
    "    stadium_map = {'Broncos Stadium at Mile High': 'Broncos Stadium At Mile High',\n",
    "            'CenturyField': 'CenturyLink Field',\n",
    "            'CenturyLink': 'CenturyLink Field',\n",
    "            'Everbank Field': 'EverBank Field',\n",
    "            'FirstEnergy': 'First Energy Stadium',\n",
    "            'FirstEnergy Stadium': 'First Energy Stadium',\n",
    "            'FirstEnergyStadium': 'First Energy Stadium',\n",
    "            'Lambeau field': 'Lambeau Field',\n",
    "            'Los Angeles Memorial Coliesum': 'Los Angeles Memorial Coliseum',\n",
    "            'M & T Bank Stadium': 'M&T Bank Stadium',\n",
    "            'M&T Stadium': 'M&T Bank Stadium',\n",
    "            'Mercedes-Benz Dome': 'Mercedes-Benz Superdome',\n",
    "            'MetLife': 'MetLife Stadium',\n",
    "            'Metlife Stadium': 'MetLife Stadium',\n",
    "            'NRG': 'NRG Stadium',\n",
    "            'Oakland Alameda-County Coliseum': 'Oakland-Alameda County Coliseum',\n",
    "            'Paul Brown Stdium': 'Paul Brown Stadium',\n",
    "            'Twickenham': 'Twickenham Stadium'}\n",
    "    \n",
    "    df[\"Stadium\"] = df['Stadium'].map(stadium_map).fillna(df[\"Stadium\"])\n",
    "    \n",
    "    #Turf: map to Artificial/Natural\n",
    "    turf_map = {'Field Turf':'Artificial',\n",
    "        'A-Turf Titan':'Artificial',\n",
    "        'Grass':'Natural',\n",
    "        'UBU Sports Speed S5-M':'Artificial',\n",
    "        'Artificial':'Artificial',\n",
    "        'DD GrassMaster':'Artificial',\n",
    "        'Natural Grass':'Natural',\n",
    "        'UBU Speed Series-S5-M':'Artificial',\n",
    "        'FieldTurf':'Artificial',\n",
    "        'FieldTurf 360':'Artificial',\n",
    "        'Natural grass':'Natural',\n",
    "        'grass':'Natural',\n",
    "        'Natural':'Natural',\n",
    "        'Artifical':'Artificial',\n",
    "        'FieldTurf360':'Artificial',\n",
    "        'Naturall Grass':'Natural',\n",
    "        'Field turf':'Artificial',\n",
    "        'SISGrass':'Artificial',\n",
    "        'Twenty-Four/Seven Turf':'Artificial',\n",
    "        'natural grass':'Natural'}\n",
    "\n",
    "    df['Turf'] = df['Turf'].map(turf_map).fillna(df[\"Turf\"])\n",
    "    \n",
    "    #PlayerHeight: convert from feet+inches to inches\n",
    "    df['PlayerHeight'] = df['PlayerHeight'].apply(lambda x: 12*int(x.split('-')[0])+int(x.split('-')[1]))   \n",
    "    \n",
    "    #PlayerAge: compute player age as time between birthdate and timesnap\n",
    "    df[\"PlayerAge\"] = np.rint(((pd.to_datetime(df[\"TimeSnap\"], format='%Y/%m/%d').dt.date -\n",
    "                                pd.to_datetime(df[\"PlayerBirthDate\"], format='%m/%d/%Y').dt.date)).dt.days / 365).astype(\"int\")\n",
    "    \n",
    "    #GameClock: convert gameclock to time left of quarter\n",
    "    df[\"GameClock\"] = df[\"GameClock\"].apply(lambda x: int(x.split(\":\")[0]) * 60 + int(x.split(\":\")[1]))\n",
    "    \n",
    "    #StadiumType: Convert to Outdoor/Indoor\n",
    "    stadiumType_map = {\"Bowl\": \"Outdoor\",\n",
    "                   \"Closed Dome\": \"Indoor\",\n",
    "                   \"Cloudy\": \"Outdoor\",\n",
    "                   \"Dome\": \"Outdoor\",\n",
    "                   \"Dome, closed\": \"Indoor\",\n",
    "                   \"Domed\": \"Indoor\",\n",
    "                   \"Domed, open\": \"Outdoor\",\n",
    "                   \"Domed, Open\": \"Outdoor\",\n",
    "                   \"Domed, closed\": \"Indoor\",\n",
    "                   \"Heinz Field\": \"Outdoor\",\n",
    "                   \"Indoor, Open Roof\": \"Outdoor\",\n",
    "                   \"Indoor, Roof Closed\": \"Indoor\",\n",
    "                   \"Indoors\": \"Indoor\",\n",
    "                   \"Open\": \"Outdoor\",\n",
    "                   \"Oudoor\": \"Outdoor\",\n",
    "                   \"Ourdoor\": \"Outdoor\",\n",
    "                   \"Outdoor Retr Roof-Open\": \"Outdoor\",\n",
    "                   \"Outdoors\": \"Outdoor\",\n",
    "                   \"Outddors\": \"Outdoor\",\n",
    "                   \"Outdor\": \"Outdoor\",\n",
    "                   \"Outside\": \"Outdoor\",\n",
    "                   \"Retr. Roof - Closed\": \"Indoor\",\n",
    "                   \"Retr. Roof - Open\": \"Outdoor\",\n",
    "                   \"Retr. Roof Closed\": \"Indoor\",\n",
    "                   \"Retr. Roof-Closed\": \"Indoor\",\n",
    "                   \"Retr. Roof-Open\": \"Outdoor\",\n",
    "                   \"Retractable Roof\": \"Indoor\"}\n",
    "    \n",
    "    df[\"StadiumType\"] = df[\"StadiumType\"].map(stadiumType_map).fillna(df[\"StadiumType\"])\n",
    "    #the three stadiums which contain NaN  are outdoor stadium\n",
    "    df[\"StadiumType\"].fillna(\"Outdoor\", inplace = True)\n",
    "    \n",
    "    #GameWeather: map to rain/overcast/clear/snow/none\n",
    "    rain = ['Rainy', 'Rain Chance 40%', 'Showers','Cloudy with periods of rain, thunder possible. Winds shifting to WNW, 10-20 mph.',\n",
    "        'Scattered Showers', 'Cloudy, Rain', 'Rain shower', 'Light Rain', 'Rain']\n",
    "\n",
    "    overcast = ['Cloudy, light snow accumulating 1-3\"', 'Party Cloudy', 'Cloudy, chance of rain',\n",
    "                'Coudy', 'Cloudy, 50% change of rain', 'Rain likely, temps in low 40s.',\n",
    "                'Cloudy and cold', 'Cloudy, fog started developing in 2nd quarter',\n",
    "                'Partly Clouidy', '30% Chance of Rain', 'Mostly Coudy', 'Cloudy and Cool',\n",
    "                'cloudy', 'Partly cloudy', 'Overcast', 'Hazy', 'Mostly cloudy', 'Mostly Cloudy',\n",
    "                'Partly Cloudy', 'Cloudy']\n",
    "\n",
    "    clear = ['Partly clear', 'Sunny and clear', 'Sun & clouds', 'Clear and Sunny',\n",
    "            'Sunny and cold', 'Sunny Skies', 'Clear and Cool', 'Clear and sunny',\n",
    "            'Sunny, highs to upper 80s', 'Mostly Sunny Skies', 'Cold',\n",
    "            'Clear and warm', 'Sunny and warm', 'Clear and cold', 'Mostly sunny',\n",
    "            'T: 51; H: 55; W: NW 10 mph', 'Clear Skies', 'Clear skies', 'Partly sunny',\n",
    "            'Fair', 'Partly Sunny', 'Mostly Sunny', 'Clear', 'Sunny', 'Sunny, Windy']\n",
    "\n",
    "    snow  = ['Heavy lake effect snow', 'Snow']\n",
    "\n",
    "    none  = ['N/A Indoor', 'Indoors', 'Indoor', 'N/A (Indoors)', 'Controlled Climate']\n",
    "    \n",
    "    df['GameWeather'] = df['GameWeather'].replace(rain,'rain')\n",
    "    df['GameWeather'] = df['GameWeather'].replace(overcast,'overcast')\n",
    "    df['GameWeather'] = df['GameWeather'].replace(clear,'clear')\n",
    "    df['GameWeather'] = df['GameWeather'].replace(snow,'snow')\n",
    "    df['GameWeather'] = df['GameWeather'].replace(none,'none')\n",
    "    \n",
    "    #WindSpeed: remove \"mph\" from strings and compute average if windspeed given in range\n",
    "    df['WindSpeed'] = df['WindSpeed'].apply(clean_wind_speed)\n",
    "    #impute 0 for WindSpeeds that does not make sense\n",
    "    df['WindSpeed'] = df['WindSpeed'].replace(['nan','E','SE','Calm','SSW'], \"0\")\n",
    "    \n",
    "    #manually replace windspeeds given in ranges\n",
    "    WindSpeed_map = {\"11-17\": \"14\",\n",
    "                     \"14-23\": \"18\",\n",
    "                     \"12-22\": \"12\",\n",
    "                     \"10-20\": \"15\",\n",
    "                     \"15 gusts up to 25\": \"15\"\n",
    "                }\n",
    "    df[\"WindSpeed\"] = df[\"WindSpeed\"].map(WindSpeed_map).fillna(df[\"WindSpeed\"]).astype(\"int\")\n",
    "    \n",
    "    #S: normalize S by season\n",
    "    for season in df[\"Season\"].unique():\n",
    "        df.loc[train_df['Season'] == season, 'S'] = sc.fit_transform(df.loc[train_df['Season'] == season, 'S'].values.reshape(-1, 1))\n",
    "    \n",
    "    #Helper columns\n",
    "    \n",
    "    #TeamOnOffense: Home/away\n",
    "    df[\"TeamOnOffense\"] = np.where(df[\"PossessionTeam\"] == df[\"HomeTeamAbbr\"], \"home\", \"away\")\n",
    "    \n",
    "    #FieldPositionTeam: Side of the field, home/away\n",
    "    df[\"FieldPositionTeam\"] = np.where(df[\"FieldPosition\"] == df[\"HomeTeamAbbr\"], \"home\", \"away\")\n",
    "    \n",
    "    #IsOnOffense: True/False for attacking/defending\n",
    "    df['IsOnOffense'] = df.Team == df.TeamOnOffense \n",
    "    \n",
    "    #ScoreDiff\n",
    "    df[\"ScoreDiff\"] = np.where(df[\"TeamOnOffense\"] == \"home\", df[\"HomeScoreBeforePlay\"] - df[\"VisitorScoreBeforePlay\"],\n",
    "                               df[\"VisitorScoreBeforePlay\"] - df[\"HomeScoreBeforePlay\"])\n",
    "    \n",
    "    #Imputation missing values\n",
    "    df[\"OffenseFormation\"].fillna(df[\"OffenseFormation\"].mode()[0], inplace = True)\n",
    "    df[\"DefendersInTheBox\"].fillna(df[\"DefendersInTheBox\"].mode()[0], inplace = True)\n",
    "    df[\"Temperature\"].fillna(df[\"Temperature\"].mode()[0], inplace = True)\n",
    "    df[\"GameWeather\"].fillna(df[\"GameWeather\"].mode()[0], inplace = True)\n",
    "    df[\"Humidity\"].fillna(df[\"Humidity\"].mode()[0], inplace = True)\n",
    "    df[\"WindDirection\"].fillna(df[\"WindDirection\"].mode()[0], inplace = True)\n",
    "    \n",
    "    \n",
    "    return df"
   ]
  },
  {
   "cell_type": "code",
   "execution_count": 90,
   "metadata": {},
   "outputs": [],
   "source": [
    "def feature_engineering(df):\n",
    "    \n",
    "    #Create dataframe indexed on PlayId\n",
    "    play_df = pd.DataFrame(df[\"PlayId\"].unique(), columns = [\"PlayId\"])\n",
    "    \n",
    "    #Quarter\n",
    "    feat_df = df.groupby(\"PlayId\").agg({\"Quarter\": \"first\"}).reset_index()\n",
    "    play_df = play_df.merge(feat_df, on = \"PlayId\", how = \"left\")\n",
    "    \n",
    "    #GameClock\n",
    "    feat_df = df.groupby(\"PlayId\").agg({\"GameClock\": \"first\"}).reset_index()\n",
    "    play_df = play_df.merge(feat_df, on = \"PlayId\", how = \"left\")\n",
    "    \n",
    "    #Down\n",
    "    feat_df = df.groupby(\"PlayId\").agg({\"Down\": \"first\"}).reset_index()\n",
    "    play_df = play_df.merge(feat_df, on = \"PlayId\", how = \"left\")\n",
    "    \n",
    "    #OffenseFormation\n",
    "    feat_df = df.groupby(\"PlayId\").agg({\"OffenseFormation\": \"first\"}).reset_index()\n",
    "    play_df = play_df.merge(feat_df, on = \"PlayId\", how = \"left\")\n",
    "    \n",
    "    #DefendersInTheBox\n",
    "    feat_df = df.groupby(\"PlayId\").agg({\"DefendersInTheBox\": \"first\"}).reset_index()\n",
    "    play_df = play_df.merge(feat_df, on = \"PlayId\", how = \"left\")\n",
    "    \n",
    "    #StadiumType\n",
    "    feat_df = df.groupby(\"PlayId\").agg({\"StadiumType\": \"first\"}).reset_index()\n",
    "    play_df = play_df.merge(feat_df, on = \"PlayId\", how = \"left\")\n",
    "    \n",
    "    #Turf\n",
    "    feat_df = df.groupby(\"PlayId\").agg({\"Turf\": \"first\"}).reset_index()\n",
    "    play_df = play_df.merge(feat_df, on = \"PlayId\", how = \"left\")\n",
    "    \n",
    "    #GameWeather\n",
    "    feat_df = df.groupby(\"PlayId\").agg({\"GameWeather\": \"first\"}).reset_index()\n",
    "    play_df = play_df.merge(feat_df, on = \"PlayId\", how = \"left\")\n",
    " \n",
    "    #Temperature\n",
    "    feat_df = df.groupby(\"PlayId\").agg({\"Temperature\": \"first\"}).reset_index()\n",
    "    play_df = play_df.merge(feat_df, on = \"PlayId\", how = \"left\")\n",
    "    \n",
    "    #Humidity\n",
    "    feat_df = df.groupby(\"PlayId\").agg({\"Humidity\": \"first\"}).reset_index()\n",
    "    play_df = play_df.merge(feat_df, on = \"PlayId\", how = \"left\")\n",
    "    \n",
    "    #ScoreDiff\n",
    "    feat_df = df.groupby(\"PlayId\").agg({\"ScoreDiff\": \"first\"}).reset_index()\n",
    "    play_df = play_df.merge(feat_df, on = \"PlayId\", how = \"left\")\n",
    "    \n",
    "    #Create X\n",
    "    play_df = play_df.merge(df[[\"PlayId\", \"Yards\"]].drop_duplicates(), on = \"PlayId\", how = \"left\")\n",
    "    play_df.set_index(\"PlayId\", inplace = True)\n",
    "    X = play_df.drop(columns = \"Yards\")\n",
    "    \n",
    "    #Create y\n",
    "    yards = play_df[\"Yards\"]\n",
    "    y_matrix = np.zeros((yards.shape[0], 199))\n",
    "    for idx, target in enumerate(list(yards)):\n",
    "        y_matrix[idx][99 + target] = 1\n",
    "    y = pd.DataFrame(y_matrix, columns = np.arange(-99, 100, 1))\n",
    "\n",
    "    return X, y"
   ]
  },
  {
   "cell_type": "code",
   "execution_count": 81,
   "metadata": {},
   "outputs": [],
   "source": [
    "def ohe(df):\n",
    "    df = df.copy()\n",
    "    for col in df.select_dtypes(include='object').columns:\n",
    "        ohe_df = pd.get_dummies(df[col], prefix = col)\n",
    "        df = df.merge(ohe_df, left_index = True, right_index = True, how = \"left\")\n",
    "        df.drop(columns = col, inplace = True)\n",
    "    return df"
   ]
  },
  {
   "cell_type": "code",
   "execution_count": 82,
   "metadata": {},
   "outputs": [],
   "source": [
    "def scale_X(X):\n",
    "    X = X.copy()\n",
    "    scaler = StandardScaler()\n",
    "    #only scale non binary columns\n",
    "    scale_cols = X.apply(lambda x: x.nunique()).loc[lambda x : x != 2].index.tolist()\n",
    "    non_scale_cols = [col for col in X.columns if col not in scale_cols]\n",
    "    scaled_df  = pd.DataFrame(scaler.fit_transform(X[scale_cols]), columns = scale_cols, index = X.index)\n",
    "    return pd.concat([X[non_scale_cols], scaled_df], axis = 1, sort = False)"
   ]
  },
  {
   "cell_type": "code",
   "execution_count": 83,
   "metadata": {},
   "outputs": [
    {
     "name": "stdout",
     "output_type": "stream",
     "text": [
      "CPU times: user 3.87 s, sys: 858 ms, total: 4.73 s\n",
      "Wall time: 4.85 s\n"
     ]
    },
    {
     "data": {
      "text/plain": [
       "(509762, 49)"
      ]
     },
     "execution_count": 83,
     "metadata": {},
     "output_type": "execute_result"
    }
   ],
   "source": [
    "%%time\n",
    "train_df = pd.read_csv('train.csv', low_memory = False)\n",
    "train_df.shape"
   ]
  },
  {
   "cell_type": "code",
   "execution_count": 91,
   "metadata": {},
   "outputs": [
    {
     "name": "stdout",
     "output_type": "stream",
     "text": [
      "CPU times: user 5.19 s, sys: 294 ms, total: 5.48 s\n",
      "Wall time: 5.5 s\n"
     ]
    }
   ],
   "source": [
    "%%time\n",
    "df = preprocess(train_df)"
   ]
  },
  {
   "cell_type": "code",
   "execution_count": 92,
   "metadata": {
    "scrolled": true
   },
   "outputs": [
    {
     "name": "stdout",
     "output_type": "stream",
     "text": [
      "CPU times: user 455 ms, sys: 139 ms, total: 594 ms\n",
      "Wall time: 594 ms\n"
     ]
    }
   ],
   "source": [
    "%%time\n",
    "X, y = feature_engineering(df)"
   ]
  },
  {
   "cell_type": "code",
   "execution_count": 93,
   "metadata": {},
   "outputs": [
    {
     "name": "stdout",
     "output_type": "stream",
     "text": [
      "CPU times: user 30.5 ms, sys: 4.49 ms, total: 35 ms\n",
      "Wall time: 33.8 ms\n"
     ]
    }
   ],
   "source": [
    "%%time\n",
    "X = ohe(X)"
   ]
  },
  {
   "cell_type": "code",
   "execution_count": 94,
   "metadata": {},
   "outputs": [
    {
     "name": "stdout",
     "output_type": "stream",
     "text": [
      "CPU times: user 18.2 ms, sys: 2.97 ms, total: 21.1 ms\n",
      "Wall time: 20.2 ms\n"
     ]
    }
   ],
   "source": [
    "%%time\n",
    "X = scale_X(X)"
   ]
  },
  {
   "cell_type": "code",
   "execution_count": 95,
   "metadata": {},
   "outputs": [
    {
     "name": "stdout",
     "output_type": "stream",
     "text": [
      "CPU times: user 25.2 ms, sys: 36.6 ms, total: 61.9 ms\n",
      "Wall time: 62.8 ms\n"
     ]
    }
   ],
   "source": [
    "%%time\n",
    "X.to_pickle(\"X\")\n",
    "y.to_pickle(\"y\")"
   ]
  }
 ],
 "metadata": {
  "kernelspec": {
   "display_name": "Python 3",
   "language": "python",
   "name": "python3"
  },
  "language_info": {
   "codemirror_mode": {
    "name": "ipython",
    "version": 3
   },
   "file_extension": ".py",
   "mimetype": "text/x-python",
   "name": "python",
   "nbconvert_exporter": "python",
   "pygments_lexer": "ipython3",
   "version": "3.7.4"
  }
 },
 "nbformat": 4,
 "nbformat_minor": 2
}
